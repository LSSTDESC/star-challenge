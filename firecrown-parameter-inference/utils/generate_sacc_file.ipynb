{
 "cells": [
  {
   "cell_type": "code",
   "execution_count": 5,
   "metadata": {},
   "outputs": [],
   "source": [
    "import os\n",
    "\n",
    "import numpy as np\n",
    "import astropy.io.fits as fits\n",
    "\n",
    "import sacc"
   ]
  },
  {
   "cell_type": "code",
   "execution_count": 6,
   "metadata": {},
   "outputs": [],
   "source": [
    "# Original sacc file\n",
    "original_sacc_file = \"../../../star-challenge/gaussian-sims-srd-sample/data-vector/twopoint_theory_real_with_cov.sacc\"\n",
    "\n",
    "# Name of new sacc file that will be created\n",
    "output_sacc_file = \"../../../star-challenge/gaussian-sims-srd-sample/data-vector/twopoint_theory_real_with_cov_firecrown_theory.sacc\"\n",
    "\n",
    "# Name of sacc file to take the covariance from\n",
    "cov_sacc_file = original_sacc_file\n",
    "\n",
    "# Directory with the firecrown datablock output\n",
    "datablock_dir = \"../cosmosis/output/gaussian_sims_3x2pt_real/\""
   ]
  },
  {
   "cell_type": "code",
   "execution_count": 7,
   "metadata": {},
   "outputs": [],
   "source": [
    "original_sacc_data = sacc.Sacc.load_fits(original_sacc_file)\n",
    "cov_sacc_data = sacc.Sacc.load_fits(cov_sacc_file)\n",
    "\n",
    "new_sacc_data = original_sacc_data.copy()\n"
   ]
  },
  {
   "cell_type": "code",
   "execution_count": null,
   "metadata": {},
   "outputs": [],
   "source": [
    "all_cov_indices = []\n",
    "\n",
    "for data_type in new_sacc_data.get_data_types():\n",
    "    print(data_type)\n",
    "    tracers = original_sacc_data.get_tracer_combinations(data_type)\n",
    "    for tracer0, tracer1 in tracers:\n",
    "        print((tracer0, tracer1))\n",
    "        theory = np.loadtxt(os.path.join(datablock_dir, f\"datablock/data_vector/theory_{data_type}_{tracer0}_{tracer1}.txt\"))\n",
    "\n",
    "        indices = new_sacc_data.indices(data_type=data_type, tracers=(tracer0, tracer1))\n",
    "        cov_indices = cov_sacc_data.indices(data_type=data_type, tracers=(tracer0, tracer1))\n",
    "        all_cov_indices += list(indices)\n",
    "        assert len(indices) == theory.size\n",
    "        for i, idx in enumerate(indices):\n",
    "            new_sacc_data.data[idx].value = theory[i]\n",
    "\n",
    "# We don't need to deal with the covariance now.\n",
    "# new_covariance = cov_sacc_data.covariance.keeping_indices(all_cov_indices)\n",
    "# new_sacc_data.add_covariance(new_covariance.covmat)\n",
    "\n",
    "new_sacc_data.save_fits(output_sacc_file, overwrite=True)"
   ]
  },
  {
   "cell_type": "code",
   "execution_count": null,
   "metadata": {},
   "outputs": [],
   "source": []
  }
 ],
 "metadata": {
  "interpreter": {
   "hash": "cde22f69d6be33e2776fe22bcfd7645253d7eefe045e9698e9dcec009a21edfe"
  },
  "kernelspec": {
   "display_name": "Python 3.10.4 ('firecrown')",
   "language": "python",
   "name": "python3"
  },
  "language_info": {
   "codemirror_mode": {
    "name": "ipython",
    "version": 3
   },
   "file_extension": ".py",
   "mimetype": "text/x-python",
   "name": "python",
   "nbconvert_exporter": "python",
   "pygments_lexer": "ipython3",
   "version": "3.10.4"
  },
  "orig_nbformat": 4
 },
 "nbformat": 4,
 "nbformat_minor": 2
}
