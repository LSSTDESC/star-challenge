{
 "cells": [
  {
   "cell_type": "markdown",
   "id": "04ee9f4b-4f3f-47a3-826e-b633a12a93e7",
   "metadata": {},
   "source": [
    "# Link to public release\n"
   ]
  },
  {
   "cell_type": "markdown",
   "id": "b47d73f9-4953-44da-ad27-5bed9452ea94",
   "metadata": {},
   "source": [
    "https://hsc-release.mtk.nao.ac.jp/datasearch/ "
   ]
  },
  {
   "cell_type": "markdown",
   "id": "459e1e37-e9c9-415c-8d0b-c0f31c511e47",
   "metadata": {},
   "source": [
    " # Obtaining the catalogs\n"
   ]
  },
  {
   "cell_type": "markdown",
   "id": "d7a0d7a2-94df-4888-9f04-5a5da46e3234",
   "metadata": {},
   "source": [
    "Query to obtain the necessary data. Here, we consider the model 'Ephor-AB' as the pz-method:\n",
    "\n",
    "\n"
   ]
  },
  {
   "cell_type": "raw",
   "id": "f5c9723f-8b7f-4a06-aff3-3d5c1e3f98cc",
   "metadata": {},
   "source": [
    "select\n",
    " b.*, c.ira, c.idec, a.ishape_hsm_regauss_e1, a.ishape_hsm_regauss_e2, a.ishape_hsm_regauss_sigma, a.ishape_hsm_regauss_flags, a.ishape_hsm_regauss_resolution,\n",
    " a.ishape_hsm_moments_11, a.ishape_hsm_moments_22, a.ishape_hsm_psfmoments_11,  a.ishape_hsm_psfmoments_22, a.ishape_hsm_psfmoments_12, c.iclassification_extendedness, \n",
    " c.icmodel_flux, c.icmodel_flux_err, c.icmodel_mag, c.iblendedness_abs_flux, c.gcmodel_flux, c.gcmodel_flux_err,c.rcmodel_flux, c.rcmodel_flux_err, c.zcmodel_flux,\n",
    " c.zcmodel_flux_err, c.ycmodel_flux,c.iflags_pixel_suspect_center, c.ycmodel_flux_err, c.icmodel_mag_err, c.rcmodel_mag_err,  c.rcmodel_mag, d.wl_fulldepth_fullcolor, d.a_i, e.photoz_best,\n",
    " c.idetect_is_primary, c.ideblend_skipped,c.iflags_badcentroid, a.icentroid_sdss_flags,c.iflags_pixel_edge,c.iflags_pixel_interpolated_center,\n",
    " c.iflags_pixel_saturated_center,c.iflags_pixel_suspect_center, c.iflags_pixel_clipped_any\n",
    "\n",
    "\n",
    "from\n",
    " s16a_wide.meas2 a\n",
    " inner join s16a_wide.weaklensing_hsm_regauss b using (object_id)\n",
    " inner join s16a_wide.meas c using (object_id)\n",
    " inner join s16a_wide.forced d using (object_id)\n",
    "\n",
    " inner join s16a_wide.photoz_ephor_ab e using (object_id)\n",
    "\n",
    "-- Uncomment the specific lines depending upon the field to be used\n",
    " -- where s16a_wide.search_xmm(c.skymap_id)\n",
    " where s16a_wide.search_wide12h(c.skymap_id)\n",
    " -- where s16a_wide.search_vvds(c.skymap_id)\n",
    " -- where s16a_wide.search_hectomap(c.skymap_id)\n",
    " -- where s16a_wide.search_gama15h(c.skymap_id)\n",
    " -- where s16a_wide.search_gama09h(c.skymap_id)\n",
    "\n",
    "\n"
   ]
  },
  {
   "cell_type": "markdown",
   "id": "103be30a-cdfd-4717-8b7c-8dac9dbf2e29",
   "metadata": {},
   "source": [
    "# After querying the data using the syntax above you should obtain a catalog similar to the one located at: /global/cfs/cdirs/lsst/groups/WL/users/gmarques/hsc_cat_example\n"
   ]
  },
  {
   "cell_type": "markdown",
   "id": "c1387b48-90ae-48a9-a56a-b7dbb28d1215",
   "metadata": {},
   "source": [
    "# Next, we can verify if the data has the necessary cuts, which are based on  https://arxiv.org/pdf/1705.06745.pdf, Table 4- Appendix 3, and save the catalog in txpipe format.  This is heavily based on https://github.com/LSSTDESC/txpipe-reanalysis/blob/hsc_reanalysis_andrina_dev/scripts/convert_hscdr1photo_h5py.py  \n",
    " "
   ]
  },
  {
   "cell_type": "code",
   "execution_count": 14,
   "id": "128ad677-dc5c-4a4b-86e7-0b1e970cc689",
   "metadata": {},
   "outputs": [],
   "source": [
    "import pandas as pd\n",
    "w12_full =  pd.read_csv('/global/cfs/cdirs/lsst/groups/WL/users/gmarques/hsc_cat_example/wide12h_cat.csv.gz')"
   ]
  },
  {
   "cell_type": "code",
   "execution_count": 15,
   "id": "b43691fe-7f14-420a-a7e4-3addf4b86e9a",
   "metadata": {},
   "outputs": [
    {
     "data": {
      "text/plain": [
       "Index(['# object_id', 'ishape_hsm_regauss_derived_shape_weight',\n",
       "       'ishape_hsm_regauss_derived_shear_bias_m',\n",
       "       'ishape_hsm_regauss_derived_shear_bias_c1',\n",
       "       'ishape_hsm_regauss_derived_shear_bias_c2',\n",
       "       'ishape_hsm_regauss_derived_sigma_e',\n",
       "       'ishape_hsm_regauss_derived_rms_e', 'ira', 'idec',\n",
       "       'ishape_hsm_regauss_e1', 'ishape_hsm_regauss_e2',\n",
       "       'ishape_hsm_regauss_sigma', 'ishape_hsm_regauss_flags',\n",
       "       'ishape_hsm_regauss_resolution', 'ishape_hsm_moments_11',\n",
       "       'ishape_hsm_moments_22', 'ishape_hsm_psfmoments_11',\n",
       "       'ishape_hsm_psfmoments_22', 'ishape_hsm_psfmoments_12',\n",
       "       'iclassification_extendedness', 'icmodel_flux', 'icmodel_flux_err',\n",
       "       'icmodel_mag', 'iblendedness_abs_flux', 'gcmodel_flux',\n",
       "       'gcmodel_flux_err', 'rcmodel_flux', 'rcmodel_flux_err', 'zcmodel_flux',\n",
       "       'zcmodel_flux_err', 'ycmodel_flux', 'iflags_pixel_suspect_center',\n",
       "       'ycmodel_flux_err', 'icmodel_mag_err', 'rcmodel_mag_err', 'rcmodel_mag',\n",
       "       'wl_fulldepth_fullcolor', 'a_i', 'photoz_best', 'idetect_is_primary',\n",
       "       'ideblend_skipped', 'iflags_badcentroid', 'icentroid_sdss_flags',\n",
       "       'iflags_pixel_edge', 'iflags_pixel_interpolated_center',\n",
       "       'iflags_pixel_saturated_center', 'iflags_pixel_suspect_center.1',\n",
       "       'iflags_pixel_clipped_any'],\n",
       "      dtype='object')"
      ]
     },
     "execution_count": 15,
     "metadata": {},
     "output_type": "execute_result"
    }
   ],
   "source": [
    "w12_full.columns"
   ]
  },
  {
   "cell_type": "code",
   "execution_count": 24,
   "id": "29374d5e-2dfd-4ed5-be0a-d7e3d75a4804",
   "metadata": {},
   "outputs": [],
   "source": [
    "import numpy as np\n",
    "from astropy.table import Table, vstack\n",
    "import h5py as h5\n",
    "\n",
    "def apply_cuts(hsc_shearall, field, outputdir): \n",
    "\n",
    "    \"\"\"\n",
    "    Applies the necessary cuts (based on Table 3. from https://arxiv.org/pdf/1705.06745.pdf) to the full HSC catalog and writes the resulting catalog in TxPipe format.\n",
    "    Parameters\n",
    "    ----------\n",
    "    hsc_shearall: table\n",
    "        Input shape catalog \n",
    "\n",
    "    field: string\n",
    "        name of the HSC field\n",
    "\n",
    "    outputdir: string\n",
    "        Output path to write the catalog\n",
    "\n",
    "    Returns\n",
    "    -------\n",
    "    catalog: table\n",
    "        Output shape catalog with columns relevant for TxPipe\n",
    "    \"\"\"\n",
    "\n",
    "    \n",
    "    ngal = len(hsc_shearall)\n",
    "    print(f'Read {ngal} sources from field: {field}')\n",
    "\n",
    "    # Basic flag cuts\n",
    "    unique_det = (hsc_shearall['idetect_is_primary'] == True)\n",
    "    deblend = (hsc_shearall['ideblend_skipped'] == False)\n",
    "    centroid = (hsc_shearall['iflags_badcentroid'] == False)\n",
    "    centr_sdss = (hsc_shearall['icentroid_sdss_flags'] == False)\n",
    "    edge = (hsc_shearall['iflags_pixel_edge'] == False)\n",
    "    pix_inter = (hsc_shearall['iflags_pixel_interpolated_center'] == False)\n",
    "    pix_cen = (hsc_shearall['iflags_pixel_saturated_center'] == False)\n",
    "    susp = (hsc_shearall['iflags_pixel_suspect_center'] == False)\n",
    "    clip=  (hsc_shearall['iflags_pixel_clipped_any'] == False)\n",
    "    \n",
    "    \n",
    "    regauss_flag = (hsc_shearall['ishape_hsm_regauss_flags']==False)\n",
    "    regaus_sigma_nan = (hsc_shearall['ishape_hsm_regauss_sigma'] !=np.nan)\n",
    "    extendedness = (hsc_shearall['iclassification_extendedness']!=0)\n",
    "    \n",
    "    #Cuts on object properties\n",
    "    \n",
    "    flux_cmodel = (hsc_shearall['icmodel_flux']/hsc_shearall['icmodel_flux_err']>= 10)\n",
    "    regauss_resolution = (hsc_shearall['ishape_hsm_regauss_resolution']>=0.3)\n",
    "    regauss_e = ((hsc_shearall['ishape_hsm_regauss_e1']**2+hsc_shearall['ishape_hsm_regauss_e2']**2)**(1/2)<2)\n",
    "    regauss_sigma_cut1 = (hsc_shearall['ishape_hsm_regauss_sigma']>=0)\n",
    "    regauss_sigma_cut2 = (hsc_shearall['ishape_hsm_regauss_sigma']<=0.4)\n",
    "    imag_cut = (hsc_shearall['icmodel_mag']-hsc_shearall['a_i']<=24.5)\n",
    "    blendedness_abs_flux = (hsc_shearall['iblendedness_abs_flux']< 10**(-0.375))\n",
    "\n",
    "    null = (hsc_shearall['ishape_hsm_regauss_e1'] ==0 ) &(hsc_shearall['ishape_hsm_regauss_e2'] ==0)\n",
    "\n",
    "    all_cuts = (unique_det) & (centroid) & (deblend)& (centr_sdss)& (edge)& (pix_inter)& (pix_cen)& (susp)& (clip)& (extendedness) & (regaus_sigma_nan) & (extendedness) & (regauss_flag) & (flux_cmodel) & (regauss_resolution) & (regauss_e) & (regauss_sigma_cut2) & (regauss_sigma_cut1) & (imag_cut) & (blendedness_abs_flux) \n",
    " \n",
    "    hsc_shearall = hsc_shearall[all_cuts] \n",
    "    #Sorting by ID\n",
    "    print('sorting data')\n",
    "    hsc_shearall.sort_values('# object_id')  \n",
    "    print('sorted data')\n",
    "    \n",
    "    print('getting columns')\n",
    "    \n",
    "    dec        = hsc_shearall['idec']              \n",
    "    T     = hsc_shearall['ishape_hsm_moments_11']+hsc_shearall['ishape_hsm_moments_22']                   \n",
    "    flags = null   \n",
    "    g1 = hsc_shearall['ishape_hsm_regauss_e1']\n",
    "    g2 = hsc_shearall['ishape_hsm_regauss_e2']\n",
    "    mag_err_i    = hsc_shearall['icmodel_mag_err'] \n",
    "    mag_err_r    = hsc_shearall['rcmodel_mag_err']\n",
    "    mag_i    = hsc_shearall['icmodel_mag']     \n",
    "    mag_r    = hsc_shearall['rcmodel_mag'] \n",
    "    psf_T_mean = hsc_shearall['ishape_hsm_psfmoments_11']+ hsc_shearall['ishape_hsm_psfmoments_22']\n",
    "    # Conversion of moments to e1, e2\n",
    "    Ixx = hsc_shearall['ishape_hsm_psfmoments_11']\n",
    "    Iyy = hsc_shearall['ishape_hsm_psfmoments_22']\n",
    "    Ixy = hsc_shearall['ishape_hsm_psfmoments_12']\n",
    "    T = Ixx + Iyy\n",
    "    e1 = (Ixx - Iyy) / T\n",
    "    e2 = 2*Ixy / T\n",
    "    psf_g1     = e1      \n",
    "    psf_g2     = e2      \n",
    "    s2n        = 1.086/hsc_shearall['icmodel_mag_err']        \n",
    "    mean_z          = hsc_shearall['photoz_best'] \n",
    "    objectId        = hsc_shearall['# object_id']    \n",
    "    ra              = hsc_shearall['ira']\n",
    "    snr_i           = 1.086/mag_err_i\n",
    "    snr_r           = 1.086/mag_err_r\n",
    "    weight = hsc_shearall['ishape_hsm_regauss_derived_shape_weight']\n",
    "    m = hsc_shearall['ishape_hsm_regauss_derived_shear_bias_m']\n",
    "    c1 = hsc_shearall['ishape_hsm_regauss_derived_shear_bias_c1']\n",
    "    c2 = hsc_shearall['ishape_hsm_regauss_derived_shear_bias_c2']\n",
    "    sigma_e = hsc_shearall['ishape_hsm_regauss_derived_rms_e']\n",
    "    flag = hsc_shearall['wl_fulldepth_fullcolor']\n",
    "    print('loaded columns')\n",
    " \n",
    "    \n",
    "    #Saving the data as h5file\n",
    "    data = [dec, T, flags, g1, g2, mag_err_i, mag_err_r, mag_i, mag_r, psf_T_mean, psf_g1, psf_g2, s2n, mean_z, objectId, ra, snr_i, snr_r, weight, m, c1, c2, sigma_e, weight, mean_z, flag]\n",
    "    \n",
    "    dnames = ['dec', 'T', 'flags', 'g1', 'g2', 'mag_err_i', 'mag_err_r', 'mag_i', 'mag_r', 'psf_T_mean', 'psf_g1', 'psf_g2', 's2n', 'mean_z', 'objectId', 'ra','snr_i', 'snr_r', 'lensfit_weight', 'm', 'c1', 'c2', 'sigma_e', 'weight', 'redshift_true', 'wl_fulldepth_fullcolor']\n",
    "    \n",
    "    print('saving file, ',outputdir + f'shear_catalog_hsc_{field}_nonmetacal.h5')\n",
    "    \n",
    "    f = h5.File(outputdir + f'shear_catalog_hsc_{field}_nonmetacal.h5', 'w')\n",
    "    g = f.create_group('shear')\n",
    "    for i in range(len(data)):\n",
    "        g.create_dataset(dnames[i], data=data[i], dtype=data[i].dtype)\n",
    "    metadata = {'catalog_type':'hsc'}\n",
    "    g.attrs.update(metadata)\n",
    "    # write in a group for information on the catalog type \n",
    "    f.close()\n",
    "    \n",
    "    return data"
   ]
  },
  {
   "cell_type": "code",
   "execution_count": 25,
   "id": "ffeb5cf8-4a73-4cf5-8382-deb2c8985c6a",
   "metadata": {},
   "outputs": [
    {
     "name": "stdout",
     "output_type": "stream",
     "text": [
      "Read 1192946 sources from field: w12\n",
      "sorting data\n",
      "sorted data\n",
      "getting columns\n",
      "loaded columns\n",
      "saving file,  /home/gabriela/Documents/Pesquisa/txpipe_xcross_working/data/hsc/input_catshear_catalog_hsc_w12_nonmetacal.h5\n"
     ]
    }
   ],
   "source": [
    " \n",
    "cat_w12_txpipe = apply_cuts(w12_full, 'w12',  '/home/gabriela/Documents/Pesquisa/txpipe_xcross_working/data/hsc/input_cat/')"
   ]
  },
  {
   "cell_type": "code",
   "execution_count": null,
   "id": "bd666024-5a61-499d-8083-58209787588f",
   "metadata": {},
   "outputs": [],
   "source": [
    " "
   ]
  }
 ],
 "metadata": {
  "kernelspec": {
   "display_name": "Python 3 (ipykernel)",
   "language": "python",
   "name": "python3"
  },
  "language_info": {
   "codemirror_mode": {
    "name": "ipython",
    "version": 3
   },
   "file_extension": ".py",
   "mimetype": "text/x-python",
   "name": "python",
   "nbconvert_exporter": "python",
   "pygments_lexer": "ipython3",
   "version": "3.8.18"
  }
 },
 "nbformat": 4,
 "nbformat_minor": 5
}
